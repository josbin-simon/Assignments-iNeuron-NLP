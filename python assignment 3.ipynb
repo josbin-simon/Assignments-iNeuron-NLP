{
 "cells": [
  {
   "cell_type": "markdown",
   "metadata": {},
   "source": [
    "## python assignment 3"
   ]
  },
  {
   "cell_type": "markdown",
   "metadata": {},
   "source": [
    "1.1 Write a Python Program to implement your own myreduce() function which works exactly\n",
    "like Python's built-in function reduce()\n"
   ]
  },
  {
   "cell_type": "code",
   "execution_count": 1,
   "metadata": {},
   "outputs": [
    {
     "name": "stdout",
     "output_type": "stream",
     "text": [
      "Result for the multiplication =  120.0\n"
     ]
    }
   ],
   "source": [
    "def myreduce(function,inputs):\n",
    "    mul=1.0\n",
    "    for i in inputs:\n",
    "        mul=function(mul,i)\n",
    "    return mul\n",
    "def multiply(mul,i):\n",
    "    return mul*i\n",
    "\n",
    "result=myreduce(multiply,[5,8,3])\n",
    "print(\"Result for the multiplication = \",result)"
   ]
  },
  {
   "cell_type": "markdown",
   "metadata": {},
   "source": [
    "## -------------------------------------------------------------------------------------------------"
   ]
  },
  {
   "cell_type": "markdown",
   "metadata": {},
   "source": [
    "1.2 Write a Python program to implement your own myfilter() function which works exactly\n",
    "like Python's built-in function filter()\n"
   ]
  },
  {
   "cell_type": "code",
   "execution_count": 2,
   "metadata": {},
   "outputs": [
    {
     "name": "stdout",
     "output_type": "stream",
     "text": [
      "Filtered output is\n",
      "a o i u "
     ]
    }
   ],
   "source": [
    "def myfilter(function,inputs):\n",
    "    result=[]\n",
    "    for char in inputs:\n",
    "        if function(char):\n",
    "            result.append(char)\n",
    "    return result\n",
    "def find_vowels(char):\n",
    "    vowels=['a','e','i','o','u']\n",
    "    if char in vowels:\n",
    "            return True\n",
    "    else: \n",
    "            return False\n",
    "\n",
    "result=myfilter(find_vowels,['v','a','f','z','o','p','m','l','i','d','u'])\n",
    "print(\"Filtered output is\")\n",
    "for out in result:\n",
    "    print(out,end=' ')"
   ]
  },
  {
   "cell_type": "markdown",
   "metadata": {},
   "source": [
    "## -------------------------------------------------------------------------------------------------"
   ]
  },
  {
   "cell_type": "markdown",
   "metadata": {},
   "source": [
    "2. Implement List comprehensions to produce the following lists.\n",
    "Write List comprehensions to produce the following Lists\n",
    "['A', 'C', 'A', 'D', 'G', 'I', ’L’, ‘ D’]\n",
    "\n",
    "['x', 'xx', 'xxx', 'xxxx', 'y', 'yy', 'yyy', 'yyyy', 'z', 'zz', 'zzz', 'zzzz']\n",
    "\n",
    "['x', 'y', 'z', 'xx', 'yy', 'zz', 'xxx', 'yyy', 'zzz', 'xxxx', 'yyyy', 'zzzz']\n",
    "\n",
    "[[2], [3], [4], [3], [4], [5], [4], [5], [6]] \n",
    "\n",
    "[[2, 3, 4, 5], [3, 4, 5, 6],[4, 5, 6, 7], [5, 6, 7, 8]]\n",
    "\n",
    "[(1, 1), (2, 1), (3, 1), (1, 2), (2, 2), (3, 2), (1, 3), (2, 3), (3, 3)]"
   ]
  },
  {
   "cell_type": "code",
   "execution_count": 5,
   "metadata": {},
   "outputs": [
    {
     "name": "stdout",
     "output_type": "stream",
     "text": [
      "\n",
      " ['x', 'xx', 'xxx', 'xxxx', 'y', 'yy', 'yyy', 'yyyy', 'z', 'zz', 'zzz', 'zzzz']\n",
      "\n",
      " ['x', 'y', 'z', 'xx', 'yy', 'zz', 'xxxx', 'yyyy', 'zzzz']\n",
      "\n",
      " [[2], [3], [4], [3], [4], [5], [4], [5], [6]]\n",
      "\n",
      " [[2, 3, 4, 5], [3, 4, 5, 6], [4, 5, 6, 7], [5, 6, 7, 8]]\n",
      "\n",
      " [(1, 1), (2, 1), (3, 1), (1, 2), (2, 2), (3, 2), (1, 3), (2, 3), (3, 3)]\n"
     ]
    }
   ],
   "source": [
    "list2=['x','y','z']\n",
    "list2comprehension=[i*j for i in list2 for j in [1,2,3,4]]\n",
    "print('\\n',list2comprehension)\n",
    "\n",
    "list3comprehension=[i*j for i in [1,2,4] for j in list2]\n",
    "print('\\n',list3comprehension)\n",
    "\n",
    "list4comprehension=[[i+j] for i in [1,2,3] for j in [1,2,3]]\n",
    "print('\\n',list4comprehension)\n",
    "\n",
    "list5comprehension=[[i+j for i in [1,2,3,4]] for j in [1,2,3,4]]\n",
    "print('\\n',list5comprehension)\n",
    "\n",
    "list6comprehension=[(i,j) for j in [1,2,3] for i in [1,2,3]]\n",
    "print('\\n',list6comprehension)"
   ]
  },
  {
   "cell_type": "code",
   "execution_count": null,
   "metadata": {},
   "outputs": [],
   "source": []
  }
 ],
 "metadata": {
  "kernelspec": {
   "display_name": "Python 3",
   "language": "python",
   "name": "python3"
  },
  "language_info": {
   "codemirror_mode": {
    "name": "ipython",
    "version": 3
   },
   "file_extension": ".py",
   "mimetype": "text/x-python",
   "name": "python",
   "nbconvert_exporter": "python",
   "pygments_lexer": "ipython3",
   "version": "3.7.3"
  }
 },
 "nbformat": 4,
 "nbformat_minor": 2
}
