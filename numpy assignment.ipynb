{
 "cells": [
  {
   "cell_type": "markdown",
   "metadata": {},
   "source": [
    "## Numpy Assignment"
   ]
  },
  {
   "cell_type": "markdown",
   "metadata": {},
   "source": [
    "Q) Write a function so that the columns of the output matrix are powers of the input\n",
    "vector.\n",
    "The order of the powers is determined by the increasing boolean argument. Specifically, when\n",
    "increasing is False, the i-th output column is the input vector raised element-wise to the power\n",
    "of N - i - 1.\n",
    "HINT: Such a matrix with a geometric progression in each row is named for Alexandre-\n",
    "Theophile Vandermonde."
   ]
  },
  {
   "cell_type": "code",
   "execution_count": 1,
   "metadata": {
    "scrolled": true
   },
   "outputs": [
    {
     "name": "stdout",
     "output_type": "stream",
     "text": [
      "Enter input vector in comma seperated : 1,2,4,6,8,10\n",
      "How many columns required : 5\n",
      "When incresing = False, the matrix is\n",
      " [[    1     1     1     1     1]\n",
      " [   16     8     4     2     1]\n",
      " [  256    64    16     4     1]\n",
      " [ 1296   216    36     6     1]\n",
      " [ 4096   512    64     8     1]\n",
      " [10000  1000   100    10     1]]\n",
      "When incresing = True, the matrix is\n",
      " [[    1     1     1     1     1]\n",
      " [    1     2     4     8    16]\n",
      " [    1     4    16    64   256]\n",
      " [    1     6    36   216  1296]\n",
      " [    1     8    64   512  4096]\n",
      " [    1    10   100  1000 10000]]\n"
     ]
    }
   ],
   "source": [
    "import math\n",
    "import numpy as np\n",
    "def create_output_matrix(vector,n,increasing=False):\n",
    "    l=[]\n",
    "    k=[]\n",
    "    if not increasing:\n",
    "        \n",
    "        for j in range(n-1,-1,-1):\n",
    "            m=[int(math.pow(i,j)) for i in vector]\n",
    "            l.append(m)\n",
    "        \n",
    "        for i in range(len(vector)):\n",
    "            m=[l[j][i] for j in range(n)]\n",
    "            k.append(m)\n",
    "            \n",
    "        mat=np.array(k).reshape(len(vector),n)\n",
    "        print(\"When incresing = False, the matrix is\\n\",mat)\n",
    "        \n",
    "    elif increasing:\n",
    "        \n",
    "        for j in range(n):\n",
    "            m=[int(math.pow(i,j)) for i in vector]\n",
    "            l.append(m)\n",
    "          \n",
    "        for i in range(len(vector)):\n",
    "            m=[l[j][i] for j in range(n)]\n",
    "            k.append(m) \n",
    "            \n",
    "        mat=np.array(k).reshape(len(vector),n)\n",
    "        print(\"When incresing = True, the matrix is\\n\",mat)\n",
    "\n",
    "inputs=input('Enter input vector in comma seperated : ')\n",
    "inputs=inputs.split(',')\n",
    "put=[int(item) for item in inputs]\n",
    "no_columns=int(input(\"How many columns required : \"))\n",
    "create_output_matrix(put,no_columns,False)\n",
    "create_output_matrix(put,no_columns,True)\n",
    "\n"
   ]
  },
  {
   "cell_type": "markdown",
   "metadata": {},
   "source": [
    "## -------------------------------------------------------------------------------------------------"
   ]
  },
  {
   "cell_type": "raw",
   "metadata": {},
   "source": [
    "# Q) Given a sequence of n values x1, x2, ..., xn and a window size k>0, the k-th moving average of\n",
    "the given sequence is defined as follows:\n",
    "The moving average sequence has n-k+1 elements as shown below.\n",
    "The moving averages with k=4 of a ten-value sequence (n=10) is shown below\n",
    "i 1 2 3 4 5 6 7 8 9 10\n",
    "===== == == == == == == == == == ==\n",
    "Input 10 20 30 40 50 60 70 80 90 100\n",
    "y1 25 = (10+20+30+40)/4       \n",
    "y2 35 = (20+30+40+50)/4\n",
    "y3 45 = (30+40+50+60)/4\n",
    "y4 55 = (40+50+60+70)/4\n",
    "y5 65 = (50+60+70+80)/4\n",
    "y6 75 = (60+70+80+90)/4\n",
    "y7 85 = (70+80+90+100)/4\n",
    "Thus, the moving average sequence has n-k+1=10-4+1=7 values.\n",
    "Question: Write a function to find moving average in an array over a window:\n",
    "Test it over [3, 5, 7, 2, 8, 10, 11, 65, 72, 81, 99, 100, 150] and window of 3."
   ]
  },
  {
   "cell_type": "code",
   "execution_count": 2,
   "metadata": {},
   "outputs": [
    {
     "name": "stdout",
     "output_type": "stream",
     "text": [
      "[5.0, 4.666666666666667, 5.666666666666667, 6.666666666666667, 9.666666666666666, 28.666666666666668, 49.333333333333336, 72.66666666666667, 84.0, 93.33333333333333, 116.33333333333333]\n"
     ]
    }
   ],
   "source": [
    "data=[3,5,7,2,8,10,11,65,72,81,99,100,150]\n",
    "window=3\n",
    "l=[]\n",
    "for i in range(len(data)-(window-1)):\n",
    "    m=0.0\n",
    "    for j in range(window):\n",
    "        m+=data[i+j]\n",
    "    l.append(m/window)\n",
    "print(l)"
   ]
  },
  {
   "cell_type": "code",
   "execution_count": null,
   "metadata": {},
   "outputs": [],
   "source": []
  }
 ],
 "metadata": {
  "kernelspec": {
   "display_name": "Python 3",
   "language": "python",
   "name": "python3"
  },
  "language_info": {
   "codemirror_mode": {
    "name": "ipython",
    "version": 3
   },
   "file_extension": ".py",
   "mimetype": "text/x-python",
   "name": "python",
   "nbconvert_exporter": "python",
   "pygments_lexer": "ipython3",
   "version": "3.7.3"
  }
 },
 "nbformat": 4,
 "nbformat_minor": 2
}
