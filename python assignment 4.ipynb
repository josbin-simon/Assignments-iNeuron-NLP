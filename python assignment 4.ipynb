{
 "cells": [
  {
   "cell_type": "markdown",
   "metadata": {},
   "source": [
    "## python assignment 4"
   ]
  },
  {
   "cell_type": "markdown",
   "metadata": {},
   "source": [
    "1.1 Write a Python Program(with class concepts) to find the area of the triangle using the below\n",
    "formula.\n",
    "area = (s*(s-a)*(s-b)*(s-c)) ** 0.5\n",
    "Function to take the length of the sides of triangle from user should be defined in the parent\n",
    "class and function to calculate the area should be defined in subclass.\n"
   ]
  },
  {
   "cell_type": "code",
   "execution_count": 1,
   "metadata": {},
   "outputs": [
    {
     "name": "stdout",
     "output_type": "stream",
     "text": [
      "******* Enter the sides *********\n",
      "Enter the first side 'a' : 2\n",
      "Enter the second side 'b' : 3\n",
      "Enter the third side 'c' : 4\n",
      "Area of Triangle is : 2.905\n"
     ]
    }
   ],
   "source": [
    "class Area:\n",
    "    def __init__(self):\n",
    "        print(\"******* Enter the sides *********\")\n",
    "\n",
    "    def get_sides(self):\n",
    "        self.a=float(input(\"Enter the first side 'a' : \"))\n",
    "        self.b=float(input(\"Enter the second side 'b' : \"))\n",
    "        self.c=float(input(\"Enter the third side 'c' : \"))\n",
    "class Triangle_area(Area):\n",
    "    def __init__(self):\n",
    "        Area.__init__(self)\n",
    "        Area.get_sides(self)\n",
    "    def area_of_triangle(self):\n",
    "        self.s=(self.a+self.b+self.c)/2\n",
    "        self.area=(self.s*(self.s-self.a)*(self.s-self.b)*(self.s-self.c)) ** 0.5\n",
    "        print(\"Area of Triangle is : {0:.3f}\".format(self.area))\n",
    "\n",
    "area=Triangle_area()\n",
    "area.area_of_triangle()"
   ]
  },
  {
   "cell_type": "markdown",
   "metadata": {},
   "source": [
    "## ------------------------------------------------------------------------------------------------"
   ]
  },
  {
   "cell_type": "markdown",
   "metadata": {},
   "source": [
    "1.2 Write a function filter_long_words() that takes a list of words and an integer n and returns\n",
    "the list of words that are longer than n.\n"
   ]
  },
  {
   "cell_type": "code",
   "execution_count": 2,
   "metadata": {},
   "outputs": [
    {
     "name": "stdout",
     "output_type": "stream",
     "text": [
      "The words longer than  4\n",
      "process\n",
      "continues\n",
      "elements\n",
      "containers\n"
     ]
    }
   ],
   "source": [
    "def filter_long_words(word_list,n):\n",
    "    for word in word_list:\n",
    "        if len(word)>n:\n",
    "            print(word)\n",
    "    \n",
    "    \n",
    "words='This process continues till no more elements are left in the containers'\n",
    "words=words.split()\n",
    "n=4\n",
    "print(\"The words longer than \",n)\n",
    "filter_long_words(words,n)\n",
    "    "
   ]
  },
  {
   "cell_type": "markdown",
   "metadata": {},
   "source": [
    "## ------------------------------------------------------------------------------------------------"
   ]
  },
  {
   "cell_type": "markdown",
   "metadata": {},
   "source": [
    "2.1 Write a Python program using function concept that maps list of words into a list of integers\n",
    "representing the lengths of the corresponding words.\n",
    "Hint: If a list [ ab,cde,erty] is passed on to the python function output should come as [2,3,4]\n",
    "Here 2,3 and 4 are the lengths of the words in the list.\n"
   ]
  },
  {
   "cell_type": "code",
   "execution_count": 3,
   "metadata": {},
   "outputs": [
    {
     "name": "stdout",
     "output_type": "stream",
     "text": [
      "The words are           :  ['This', 'process', 'continues', 'till', 'no', 'more', 'elements', 'are', 'left', 'in', 'the', 'containers']\n",
      "The length of words are :  [4, 7, 9, 4, 2, 4, 8, 3, 4, 2, 3, 10]\n"
     ]
    }
   ],
   "source": [
    "def word_map_length(words):\n",
    "    l=[]\n",
    "    for word in words:\n",
    "        l.append(len(word))\n",
    "    return l\n",
    "words='This process continues till no more elements are left in the containers'\n",
    "words=words.split()\n",
    "result=word_map_length(words)\n",
    "print(\"The words are           : \",words)\n",
    "print(\"The length of words are : \",result)"
   ]
  },
  {
   "cell_type": "markdown",
   "metadata": {},
   "source": [
    "## ------------------------------------------------------------------------------------------------"
   ]
  },
  {
   "cell_type": "markdown",
   "metadata": {},
   "source": [
    "2.2 Write a Python function which takes a character (i.e. a string of length 1) and returns True if\n",
    "it is a vowel, False otherwise."
   ]
  },
  {
   "cell_type": "code",
   "execution_count": 4,
   "metadata": {},
   "outputs": [
    {
     "name": "stdout",
     "output_type": "stream",
     "text": [
      "Enter a character --> a\n",
      "True\n"
     ]
    }
   ],
   "source": [
    "def vowel_or_not(char):\n",
    "    vowels=['a','e','i','o','u']\n",
    "    if char in vowels:\n",
    "        return True\n",
    "    else:\n",
    "        return False\n",
    "input_char=input(\"Enter a character --> \")\n",
    "print(vowel_or_not(input_char))"
   ]
  }
 ],
 "metadata": {
  "kernelspec": {
   "display_name": "Python 3",
   "language": "python",
   "name": "python3"
  },
  "language_info": {
   "codemirror_mode": {
    "name": "ipython",
    "version": 3
   },
   "file_extension": ".py",
   "mimetype": "text/x-python",
   "name": "python",
   "nbconvert_exporter": "python",
   "pygments_lexer": "ipython3",
   "version": "3.7.3"
  }
 },
 "nbformat": 4,
 "nbformat_minor": 2
}
